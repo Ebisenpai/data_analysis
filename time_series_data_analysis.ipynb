{
 "cells": [
  {
   "cell_type": "code",
   "execution_count": 49,
   "id": "82fc00a6",
   "metadata": {},
   "outputs": [],
   "source": [
    "%matplotlib inline\n",
    "import numpy as np\n",
    "import matplotlib.pyplot as plt\n",
    "import pandas as pd\n",
    "import io\n",
    "import os\n",
    "import math\n",
    "import requests\n",
    "import plotly.express as px\n",
    "import seaborn as sns\n",
    "import itertools\n",
    "import scipy.stats as stats\n",
    "import statsmodels.graphics.api as smg\n",
    "import statsmodels.formula.api as smf\n",
    "from statsmodels.graphics.tsaplots import plot_acf\n",
    "from statsmodels.graphics.tsaplots import plot_pacf\n",
    "from statsmodels.tsa.statespace.sarimax import SARIMAX\n",
    "from statsmodels.stats.outliers_influence import variance_inflation_factor\n",
    "from statsmodels.tsa.seasonal import STL \n",
    "from statsmodels.tsa.ar_model import AutoReg, ar_select_order\n",
    "from statsmodels.tsa.ar_model import AR\n",
    "from statsmodels.tsa.arima_model import ARMA\n",
    "from statsmodels.tsa import stattools\n",
    "from statsmodels.tsa.stattools import adfuller\n",
    "from statsmodels.tsa import stattools as tsat\n",
    "import statsmodels.graphics.tsaplots as tsap\n",
    "from statsmodels.tsa.api import SimpleExpSmoothing, Holt, ExponentialSmoothing\n",
    "from sklearn import preprocessing\n",
    "from tqdm.notebook import tqdm\n",
    "from IPython.core.debugger import Pdb\n",
    "import ipywidgets.widgets as iw\n",
    "\n",
    "\n",
    "# warning回避\n",
    "from statsmodels.tools.sm_exceptions import HessianInversionWarning, ConvergenceWarning\n",
    "import warnings\n",
    "\n",
    "warnings.simplefilter(\"ignore\", HessianInversionWarning)\n",
    "warnings.simplefilter(\"ignore\", ConvergenceWarning)\n",
    "warnings.simplefilter(\"ignore\")\n",
    "\n",
    "# 誤差のパッケージインポート\n",
    "from sklearn.metrics import mean_absolute_error\n",
    "from sklearn.metrics import mean_squared_error\n",
    "from sklearn.metrics import mean_squared_log_error\n",
    "from sklearn.metrics import median_absolute_error\n",
    "from sklearn.metrics import max_error\n",
    "\n",
    " \n",
    "target = \"#demands\"\n"
   ]
  },
  {
   "cell_type": "markdown",
   "id": "c0cafe6b",
   "metadata": {},
   "source": [
    "# 対象データ"
   ]
  },
  {
   "cell_type": "code",
   "execution_count": 50,
   "id": "5a8e4af8",
   "metadata": {},
   "outputs": [],
   "source": [
    "#予測期間\n",
    "t_range = np.arange('2015-01', '2020-01',np.timedelta64(1,'M'), dtype='datetime64')"
   ]
  },
  {
   "cell_type": "markdown",
   "id": "0bb0cacd",
   "metadata": {},
   "source": [
    "## air passenger"
   ]
  },
  {
   "cell_type": "code",
   "execution_count": 95,
   "id": "0d6603a3",
   "metadata": {},
   "outputs": [
    {
     "data": {
      "text/html": [
       "<div>\n",
       "<style scoped>\n",
       "    .dataframe tbody tr th:only-of-type {\n",
       "        vertical-align: middle;\n",
       "    }\n",
       "\n",
       "    .dataframe tbody tr th {\n",
       "        vertical-align: top;\n",
       "    }\n",
       "\n",
       "    .dataframe thead th {\n",
       "        text-align: right;\n",
       "    }\n",
       "</style>\n",
       "<table border=\"1\" class=\"dataframe\">\n",
       "  <thead>\n",
       "    <tr style=\"text-align: right;\">\n",
       "      <th></th>\n",
       "      <th>demand</th>\n",
       "      <th>label</th>\n",
       "      <th>Month</th>\n",
       "    </tr>\n",
       "  </thead>\n",
       "  <tbody>\n",
       "    <tr>\n",
       "      <th>2019-08-01</th>\n",
       "      <td>237</td>\n",
       "      <td>test</td>\n",
       "      <td>2019-08-01</td>\n",
       "    </tr>\n",
       "    <tr>\n",
       "      <th>2019-09-01</th>\n",
       "      <td>211</td>\n",
       "      <td>test</td>\n",
       "      <td>2019-09-01</td>\n",
       "    </tr>\n",
       "    <tr>\n",
       "      <th>2019-10-01</th>\n",
       "      <td>180</td>\n",
       "      <td>test</td>\n",
       "      <td>2019-10-01</td>\n",
       "    </tr>\n",
       "    <tr>\n",
       "      <th>2019-11-01</th>\n",
       "      <td>201</td>\n",
       "      <td>test</td>\n",
       "      <td>2019-11-01</td>\n",
       "    </tr>\n",
       "    <tr>\n",
       "      <th>2019-12-01</th>\n",
       "      <td>204</td>\n",
       "      <td>test</td>\n",
       "      <td>2019-12-01</td>\n",
       "    </tr>\n",
       "  </tbody>\n",
       "</table>\n",
       "</div>"
      ],
      "text/plain": [
       "            demand label      Month\n",
       "2019-08-01     237  test 2019-08-01\n",
       "2019-09-01     211  test 2019-09-01\n",
       "2019-10-01     180  test 2019-10-01\n",
       "2019-11-01     201  test 2019-11-01\n",
       "2019-12-01     204  test 2019-12-01"
      ]
     },
     "execution_count": 95,
     "metadata": {},
     "output_type": "execute_result"
    }
   ],
   "source": [
    "#https://stat.ethz.ch/R-manual/R-devel/library/datasets/html/AirPassengers.html\n",
    "df_air = pd.read_csv('AirPassengers.csv', encoding=\"shift jis\")\n",
    "y = pd.Series(df_air[\"112\"][0:60].values, index=t_range)\n",
    "y = pd.DataFrame(y, columns=['demand'])\n",
    "y[\"label\"] = \"train\"\n",
    "y[\"Month\"] = y.index\n",
    "train_fil = y[\"Month\"] < \"2019-01-01\"\n",
    "test_fil = y[\"Month\"] >= \"2019-01-01\"\n",
    "y.loc[test_fil, \"label\"] = \"test\"\n",
    "y.tail()"
   ]
  },
  {
   "cell_type": "markdown",
   "id": "324ce1e1",
   "metadata": {},
   "source": [
    "## sin+外部指標(+トレンド+ノイズ)"
   ]
  },
  {
   "cell_type": "code",
   "execution_count": 96,
   "id": "e34b4e2b",
   "metadata": {},
   "outputs": [
    {
     "data": {
      "text/html": [
       "<div>\n",
       "<style scoped>\n",
       "    .dataframe tbody tr th:only-of-type {\n",
       "        vertical-align: middle;\n",
       "    }\n",
       "\n",
       "    .dataframe tbody tr th {\n",
       "        vertical-align: top;\n",
       "    }\n",
       "\n",
       "    .dataframe thead th {\n",
       "        text-align: right;\n",
       "    }\n",
       "</style>\n",
       "<table border=\"1\" class=\"dataframe\">\n",
       "  <thead>\n",
       "    <tr style=\"text-align: right;\">\n",
       "      <th></th>\n",
       "      <th>sequence</th>\n",
       "      <th>ex1</th>\n",
       "      <th>rad</th>\n",
       "      <th>sin</th>\n",
       "      <th>random</th>\n",
       "      <th>demand</th>\n",
       "      <th>label</th>\n",
       "      <th>Month</th>\n",
       "    </tr>\n",
       "    <tr>\n",
       "      <th>Month</th>\n",
       "      <th></th>\n",
       "      <th></th>\n",
       "      <th></th>\n",
       "      <th></th>\n",
       "      <th></th>\n",
       "      <th></th>\n",
       "      <th></th>\n",
       "      <th></th>\n",
       "    </tr>\n",
       "  </thead>\n",
       "  <tbody>\n",
       "    <tr>\n",
       "      <th>2019-08-01</th>\n",
       "      <td>55</td>\n",
       "      <td>0</td>\n",
       "      <td>28.797933</td>\n",
       "      <td>-2.500000</td>\n",
       "      <td>0.379207</td>\n",
       "      <td>-2.500000</td>\n",
       "      <td>test</td>\n",
       "      <td>2019-08-01</td>\n",
       "    </tr>\n",
       "    <tr>\n",
       "      <th>2019-09-01</th>\n",
       "      <td>56</td>\n",
       "      <td>1</td>\n",
       "      <td>29.321531</td>\n",
       "      <td>-4.330127</td>\n",
       "      <td>-1.119885</td>\n",
       "      <td>-1.330127</td>\n",
       "      <td>test</td>\n",
       "      <td>2019-09-01</td>\n",
       "    </tr>\n",
       "    <tr>\n",
       "      <th>2019-10-01</th>\n",
       "      <td>57</td>\n",
       "      <td>0</td>\n",
       "      <td>29.845130</td>\n",
       "      <td>-5.000000</td>\n",
       "      <td>-0.831651</td>\n",
       "      <td>-5.000000</td>\n",
       "      <td>test</td>\n",
       "      <td>2019-10-01</td>\n",
       "    </tr>\n",
       "    <tr>\n",
       "      <th>2019-11-01</th>\n",
       "      <td>58</td>\n",
       "      <td>0</td>\n",
       "      <td>30.368729</td>\n",
       "      <td>-4.330127</td>\n",
       "      <td>-1.804667</td>\n",
       "      <td>-4.330127</td>\n",
       "      <td>test</td>\n",
       "      <td>2019-11-01</td>\n",
       "    </tr>\n",
       "    <tr>\n",
       "      <th>2019-12-01</th>\n",
       "      <td>59</td>\n",
       "      <td>1</td>\n",
       "      <td>30.892328</td>\n",
       "      <td>-2.500000</td>\n",
       "      <td>-2.765167</td>\n",
       "      <td>0.500000</td>\n",
       "      <td>test</td>\n",
       "      <td>2019-12-01</td>\n",
       "    </tr>\n",
       "  </tbody>\n",
       "</table>\n",
       "</div>"
      ],
      "text/plain": [
       "            sequence  ex1        rad       sin    random    demand label  \\\n",
       "Month                                                                      \n",
       "2019-08-01        55    0  28.797933 -2.500000  0.379207 -2.500000  test   \n",
       "2019-09-01        56    1  29.321531 -4.330127 -1.119885 -1.330127  test   \n",
       "2019-10-01        57    0  29.845130 -5.000000 -0.831651 -5.000000  test   \n",
       "2019-11-01        58    0  30.368729 -4.330127 -1.804667 -4.330127  test   \n",
       "2019-12-01        59    1  30.892328 -2.500000 -2.765167  0.500000  test   \n",
       "\n",
       "                Month  \n",
       "Month                  \n",
       "2019-08-01 2019-08-01  \n",
       "2019-09-01 2019-09-01  \n",
       "2019-10-01 2019-10-01  \n",
       "2019-11-01 2019-11-01  \n",
       "2019-12-01 2019-12-01  "
      ]
     },
     "execution_count": 96,
     "metadata": {},
     "output_type": "execute_result"
    }
   ],
   "source": [
    "import random \n",
    "y_ex = pd.DataFrame()\n",
    "y_ex[\"Month\"] = t_range\n",
    "y_ex.set_index(\"Month\", inplace=True)\n",
    "y_ex[\"sequence\"] = pd.RangeIndex(start=0, stop=len(t_range), step=1)\n",
    "y_ex[\"ex1\"] = [noise() for i in range(len(t_range))]\n",
    "y_ex[\"rad\"] = math.pi/6*y_ex[\"sequence\"]\n",
    "y_ex[\"sin\"] = 5* np.sin(y_ex[\"rad\"])\n",
    "mean, std = 0, 2\n",
    "y_ex[\"random\"] = [random.gauss(mean, std) for i in range(60)]\n",
    "y_ex[\"demand\"] = y_ex[\"sin\"]  + 3*y_ex[\"ex1\"] \n",
    "#+ y_ex[\"random\"]+ 0.4*y_ex[\"sequence\"]\n",
    "y_ex[\"label\"] = \"train\"\n",
    "y_ex[\"Month\"] = y_ex.index\n",
    "train_fil = y_ex[\"Month\"] < \"2019-01-01\"\n",
    "test_fil = y_ex[\"Month\"] >= \"2019-01-01\"\n",
    "y_ex.loc[test_fil, \"label\"] = \"test\"\n",
    "y_ex.tail()"
   ]
  },
  {
   "cell_type": "code",
   "execution_count": 53,
   "id": "608f931f",
   "metadata": {},
   "outputs": [],
   "source": [
    "def noise():\n",
    "    return 1 if random.random() >= 0.7 else 0"
   ]
  },
  {
   "cell_type": "code",
   "execution_count": 102,
   "id": "1c600e54",
   "metadata": {},
   "outputs": [],
   "source": [
    "def ex_data():\n",
    "    return y_ex[\"ex1\"]"
   ]
  },
  {
   "cell_type": "markdown",
   "id": "30ac2e36",
   "metadata": {},
   "source": [
    "## 1.ベンチマークモデル"
   ]
  },
  {
   "cell_type": "markdown",
   "id": "8d76bdcc",
   "metadata": {},
   "source": [
    "## パラメータ推定"
   ]
  },
  {
   "cell_type": "code",
   "execution_count": 59,
   "id": "b83dcd23",
   "metadata": {},
   "outputs": [],
   "source": [
    "#パラメータの探索範囲の決定\n",
    "def param_range(data):   \n",
    "    #階差をとらない場合の周期\n",
    "    pca = tsat.pacf(data,nlags=20)\n",
    "    season_0 = abs(pca[2:21]).argmax()+ 2\n",
    "    \n",
    "    #階差をとる場合の周期\n",
    "    diff_data = diff(data)\n",
    "    pca = tsat.pacf(diff_data,nlags=20)\n",
    "    season_1 = abs(pca[2:21]).argmax()+ 2\n",
    "    \n",
    "    #パラメータ\n",
    "    p = q = list(range(3))\n",
    "    d = sd = list(range(2))\n",
    "    sp = sq = range(2)\n",
    "    pdq = seasonal_pdq = [(x[0], x[1], x[2]) for x in list(itertools.product(p, d, q))]\n",
    "    seasonal_pdq = [(x[0], 0, x[2], season_0) for x in list(itertools.product(sp, sd, sq))]\n",
    "    seasonal_pdq_1 = [(x[0], 1, x[2], season_1) for x in list(itertools.product(sp, sd, sq))]\n",
    "    seasonal_pdq[len(seasonal_pdq):len(seasonal_pdq)]=seasonal_pdq_1\n",
    "    return pdq, seasonal_pdq\n"
   ]
  },
  {
   "cell_type": "code",
   "execution_count": 60,
   "id": "2d373639",
   "metadata": {},
   "outputs": [],
   "source": [
    "def AR_param(demand):\n",
    "    best_param_by_aic = {}    \n",
    "    _p_list = list(range(3))\n",
    "    for p in tqdm(_p_list):\n",
    "        param = (p, 0, 0)\n",
    "        try:\n",
    "            model = SARIMAX(\n",
    "                demand,\n",
    "                order=(p, 0, 0),\n",
    "                enforce_stationarity=False,\n",
    "                enforce_invertibility=False,\n",
    "            ).fit(disp=1, max_iter=100)\n",
    "\n",
    "            best_param_by_aic[model.aic] = param\n",
    "        except:\n",
    "            pass\n",
    "    best_param = best_param_by_aic[min(best_param_by_aic)]\n",
    "    return best_param  "
   ]
  },
  {
   "cell_type": "code",
   "execution_count": 61,
   "id": "0c12597b",
   "metadata": {},
   "outputs": [],
   "source": [
    "def ARIMA_param(demand):\n",
    "    best_param_by_aic = {}    \n",
    "    pdq = param_range(demand)[0]\n",
    "    for param in pdq:\n",
    "        try:\n",
    "            model = SARIMAX(\n",
    "                demand,\n",
    "                order=param,\n",
    "                enforce_stationarity=False,\n",
    "                enforce_invertibility=False,\n",
    "            ).fit(disp=1, max_iter=100)\n",
    "\n",
    "            best_param_by_aic[model.aic] = param\n",
    "        except:\n",
    "            pass\n",
    "    best_param = best_param_by_aic[min(best_param_by_aic)]\n",
    "    return best_param  "
   ]
  },
  {
   "cell_type": "code",
   "execution_count": 62,
   "id": "4f4fc99d",
   "metadata": {},
   "outputs": [],
   "source": [
    "def SARIMA_param(demand):\n",
    "    best_param_by_aic = {}\n",
    "    pdq, seasonal_pdq = param_range(demand)\n",
    "    for param in pdq:\n",
    "        for param_seasonal in seasonal_pdq:\n",
    "            try:\n",
    "                model = SARIMAX(\n",
    "                    demand,\n",
    "                    order=param,\n",
    "                    seasonal_order=param_seasonal,\n",
    "                    enforce_stationarity=False,\n",
    "                    enforce_invertibility=False,\n",
    "                ).fit(disp=1, max_iter=100)\n",
    "\n",
    "                best_param_by_aic[model.aic] = [param, param_seasonal]\n",
    "            except:\n",
    "                pass\n",
    "    best_param = best_param_by_aic[min(best_param_by_aic)]\n",
    "    return best_param  \n",
    "    "
   ]
  },
  {
   "cell_type": "code",
   "execution_count": 63,
   "id": "697badca",
   "metadata": {},
   "outputs": [],
   "source": [
    "def ARIMAX_param(demand, ex_indicator):\n",
    "    best_param_by_aic = {} \n",
    "    err_llf_param = {}\n",
    "    pdq = param_range(demand)[0]\n",
    "    #pdq = param_range(demand)[0]\n",
    "    for param in pdq:\n",
    "        try:\n",
    "            model = SARIMAX(\n",
    "                endog=demand,\n",
    "                exog=ex_indicator,\n",
    "                order=param,\n",
    "                enforce_stationarity=False,\n",
    "                enforce_invertibility=False,\n",
    "            ).fit(disp=1, max_iter=100)\n",
    "            # 尤度を正しく計算できないパターンがあるため、例外処理\n",
    "            if (model.llf_obs == 0).sum() > 0:\n",
    "                err_llf_param[param] = model.aic\n",
    "            else:\n",
    "                best_param_by_aic[model.aic] = param\n",
    "        except:\n",
    "            pass\n",
    "    best_param = best_param_by_aic[min(best_param_by_aic)]\n",
    "    return best_param  "
   ]
  },
  {
   "cell_type": "code",
   "execution_count": 64,
   "id": "f13c5c3a",
   "metadata": {},
   "outputs": [],
   "source": [
    "def SARIMAX_param(demand, ex_indicator):\n",
    "    best_param_by_aic = {}\n",
    "    err_llf_param = {}\n",
    "    pdq, seasonal_pdq = param_range(demand)\n",
    "    for param in pdq:\n",
    "        for param_seasonal in seasonal_pdq:\n",
    "            try:\n",
    "                model = SARIMAX(\n",
    "                    endog=demand,\n",
    "                    exog=ex_indicator,\n",
    "                    order=param,\n",
    "                    seasonal_order=param_seasonal,\n",
    "                    enforce_stationarity=False,\n",
    "                    enforce_invertibility=False,\n",
    "                ).fit(disp=1, max_iter=100)\n",
    "                # 尤度を正しく計算できないパターンがあるため、例外処理\n",
    "                if (model.llf_obs == 0).sum() > 0:\n",
    "                    err_llf_param[param] = model.aic\n",
    "                else:\n",
    "                    best_param_by_aic[model.aic] = [param, param_seasonal]\n",
    "            except:\n",
    "                pass\n",
    "    best_param = best_param_by_aic[min(best_param_by_aic)]\n",
    "    return best_param  \n",
    "    "
   ]
  },
  {
   "cell_type": "markdown",
   "id": "24125f86",
   "metadata": {},
   "source": [
    "## 予測モデル"
   ]
  },
  {
   "cell_type": "code",
   "execution_count": 65,
   "id": "540dd828",
   "metadata": {},
   "outputs": [],
   "source": [
    "def ExponentialSmoothing_df(demand):\n",
    "    model = ExponentialSmoothing(demand,seasonal_periods=12, trend='add', seasonal='add')\n",
    "    return model"
   ]
  },
  {
   "cell_type": "code",
   "execution_count": 66,
   "id": "0ef46dc4",
   "metadata": {},
   "outputs": [],
   "source": [
    "def AR_df(demand):\n",
    "    best_param = AR_param(demand)\n",
    "    model = SARIMAX(demand, order=best_param, enforce_stationarity=False, enforce_invertibility=False)\n",
    "    return model"
   ]
  },
  {
   "cell_type": "code",
   "execution_count": 67,
   "id": "ec197c32",
   "metadata": {},
   "outputs": [],
   "source": [
    "def ARMA_df(demand):\n",
    "    info_criteria = stattools.arma_order_select_ic(demand, ic=\"aic\")\n",
    "    best_param = (info_criteria.aic_min_order[0], 0, info_criteria.aic_min_order[1])\n",
    "    model = SARIMAX(demand, order=best_param, enforce_stationarity=False, enforce_invertibility=False)\n",
    "    return model"
   ]
  },
  {
   "cell_type": "code",
   "execution_count": 68,
   "id": "06b0f9ff",
   "metadata": {},
   "outputs": [],
   "source": [
    "def ARIMA_df(demand):\n",
    "    #パラメータの参照\n",
    "    best_param = ARIMA_param(demand)\n",
    "    model = SARIMAX(demand, order=best_param, enforce_stationarity=False, enforce_invertibility=False)\n",
    "    return model"
   ]
  },
  {
   "cell_type": "code",
   "execution_count": 69,
   "id": "c04944bb",
   "metadata": {},
   "outputs": [],
   "source": [
    "def SARIMA_df(demand):\n",
    "    #パラメータの参照\n",
    "    best_param = SARIMA_param(demand)\n",
    "    model = SARIMAX(demand, order=best_param[0], seasonal_order = best_param[1], enforce_stationarity=False, enforce_invertibility=False)\n",
    "    return model\n",
    "    "
   ]
  },
  {
   "cell_type": "code",
   "execution_count": 70,
   "id": "23aa41e5",
   "metadata": {},
   "outputs": [],
   "source": [
    "def ARIMAX_df(demand, ex_indicator):\n",
    "    #パラメータの参照\n",
    "    best_param = ARIMAX_param(demand, ex_indicator)\n",
    "    model = SARIMAX(endog = demand, exog = ex_indicator, order=best_param, enforce_stationarity=False, enforce_invertibility=False)\n",
    "    return model"
   ]
  },
  {
   "cell_type": "code",
   "execution_count": 71,
   "id": "3f89a6e0",
   "metadata": {},
   "outputs": [],
   "source": [
    "def SARIMAX_df(demand, ex_indicator):\n",
    "    #パラメータの参照\n",
    "    best_param = SARIMAX_param(demand, ex_indicator)\n",
    "    model = SARIMAX(endog = demand, exog = ex_indicator, order=best_param[0], seasonal_order = best_param[1], enforce_stationarity=False, enforce_invertibility=False)\n",
    "    return model"
   ]
  },
  {
   "cell_type": "code",
   "execution_count": 106,
   "id": "6a411083",
   "metadata": {},
   "outputs": [],
   "source": [
    "#モデルによる予測\n",
    "def predict(method, y):\n",
    "    model = method(y[train_fil][\"demand\"])\n",
    "    fit1 = model.fit(optimized=True)\n",
    "    y.loc[test_fil,\"predict\"] = fit1.predict(y[test_fil].index.min(), y[test_fil].index.max())\n",
    "    y.loc[train_fil,\"train_predict\"] = fit1.predict(y[train_fil].index.min(), y[train_fil].index.max())\n",
    "\n",
    "    y_pred = y['predict'][-12:]\n",
    "    y_true = y['demand'][-12:]\n",
    "    y_true_ave = np.mean(y['demand'][-12:])\n",
    "    \n",
    "    CFE = []\n",
    "    CAFE = []\n",
    "    for l in range(len(y_pred)):\n",
    "        CFE.append(y_true[l] - y_pred[l])\n",
    "    for m in range(len(y_pred)):\n",
    "        CAFE.append(sum(np.abs(CFE[:m+1])))\n",
    "    error_list = [math.sqrt(mean_squared_error(y_true, y_pred)), mean_absolute_error(y_true, y_pred), np.mean(np.abs(y_pred - y_true) / ((np.abs(y_pred)+np.abs(y_true))/2)) * 100, CAFE[11] ]\n",
    "    \n",
    "    params = pd.DataFrame(fit1.params, columns=[method.__name__])\n",
    "    \n",
    "    return y, error_list, params"
   ]
  },
  {
   "cell_type": "code",
   "execution_count": 100,
   "id": "8f263da8",
   "metadata": {},
   "outputs": [],
   "source": [
    "#提案モデルによる予測\n",
    "def pro_predict(method, y):\n",
    "    ex_indicator = ex_data()\n",
    "    model = method(y[train_fil][\"demand\"], ex_indicator[train_fil])\n",
    "    fit1 = model.fit(optimized=True)\n",
    "    y.loc[test_fil,\"predict\"] = fit1.predict(y[test_fil].index.min(), y[test_fil].index.max(), exog=ex_indicator[test_fil])\n",
    "    y.loc[train_fil,\"train_predict\"] = fit1.predict(y[train_fil].index.min(), y[train_fil].index.max(), exog=ex_indicator[train_fil])\n",
    "\n",
    "    \n",
    "    y_pred = y['predict'][-12:] \n",
    "    y_true = y['demand'][-12:]\n",
    "    y_true_ave = np.mean(y['demand'][-12:])\n",
    "    \n",
    "    CFE = []\n",
    "    CAFE = []\n",
    "    for l in range(len(y_pred)):\n",
    "        CFE.append(y_true[l] - y_pred[l])\n",
    "    for m in range(len(y_pred)):\n",
    "        CAFE.append(sum(np.abs(CFE[:m+1])))\n",
    "    error_list = [math.sqrt(mean_squared_error(y_true, y_pred)), mean_absolute_error(y_true, y_pred), np.mean(np.abs(y_pred - y_true) / ((np.abs(y_pred)+np.abs(y_true))/2)) * 100, CAFE[11] ]\n",
    "    \n",
    "    params = pd.DataFrame(fit1.params, columns=[method.__name__])\n",
    "    \n",
    "    return y, error_list, params"
   ]
  },
  {
   "cell_type": "markdown",
   "id": "5f00848d",
   "metadata": {},
   "source": [
    "## データの変換、確認"
   ]
  },
  {
   "cell_type": "code",
   "execution_count": 74,
   "id": "0873e85c",
   "metadata": {},
   "outputs": [],
   "source": [
    "#データを1階差とる\n",
    "def diff(data):\n",
    "    data_diff = data.diff()\n",
    "    data_diff = data_diff.fillna(data_diff.mean())\n",
    "    return data_diff"
   ]
  },
  {
   "cell_type": "code",
   "execution_count": 75,
   "id": "d5726b68",
   "metadata": {},
   "outputs": [],
   "source": [
    "#季節性の除去(S階差とる)\n",
    "def diff_s(data, season):\n",
    "    data_diff = data.diff(periods=int(season))\n",
    "    data_diff = data_diff.fillna(data_diff.mean())\n",
    "    return data_diff"
   ]
  },
  {
   "cell_type": "code",
   "execution_count": 76,
   "id": "c4566793",
   "metadata": {},
   "outputs": [],
   "source": [
    "#単位根検定\n",
    "def dftest(data):\n",
    "    dftest = adfuller(data)\n",
    "    dfoutput = pd.Series(dftest[0:4], index=['Test Statistic','p-value','#Lags Used','Number of Observations Used'])\n",
    "    for key,value in dftest[4].items():\n",
    "       dfoutput['Critical Value (%s)'%key] = value\n",
    "    print(dfoutput)\n",
    "    return dfoutput[1]"
   ]
  },
  {
   "cell_type": "code",
   "execution_count": 77,
   "id": "28c1a4c0",
   "metadata": {},
   "outputs": [],
   "source": [
    "#コレログラムの描画\n",
    "def acf_plot(data):\n",
    "    plot_acf(data, lags=47)\n",
    "    plot_pacf(data, lags=20)  \n",
    "    pca = tsat.pacf(data,nlags=20)\n",
    "    season = pca[2:21].argmax()+2\n",
    "    print(season)\n",
    "    return season"
   ]
  },
  {
   "cell_type": "code",
   "execution_count": 78,
   "id": "f2d77113",
   "metadata": {},
   "outputs": [],
   "source": [
    "# STL分解\n",
    "def stl_plot(data, season):    \n",
    "    stl=STL(data, period=season, robust=True)\n",
    "    stl_series = stl.fit()\n",
    "    stl_series.plot()"
   ]
  },
  {
   "cell_type": "code",
   "execution_count": 79,
   "id": "e1a781fb",
   "metadata": {},
   "outputs": [],
   "source": [
    "def check_data(data):\n",
    "    df_p = dftest(data)\n",
    "    if  df_p > 0.05:\n",
    "        data = diff(data)\n",
    "        dftest(data)\n",
    "    print(\"偏自己相関\")\n",
    "    season = acf_plot(data)\n",
    "    stl_plot(data, season)\n",
    "    data = diff_s(data, season)\n",
    "    print(\"季節性除去後の偏自己相関\")\n",
    "    acf_plot(data)"
   ]
  },
  {
   "cell_type": "markdown",
   "id": "00376496",
   "metadata": {},
   "source": [
    "## データ生成"
   ]
  },
  {
   "cell_type": "markdown",
   "id": "0bbf3919",
   "metadata": {},
   "source": [
    "### モデル"
   ]
  },
  {
   "cell_type": "code",
   "execution_count": 109,
   "id": "4f6393b7",
   "metadata": {},
   "outputs": [],
   "source": [
    "AR_method = [SimpleExpSmoothing, Holt, ExponentialSmoothing, AR_df, ARMA_df, ARIMA_df, SARIMA_df]\n",
    "pro_method = [ARIMAX_df, SARIMAX_df]\n",
    "method_list = [\"SimpleExpSmoothing\", \"Holt\", \"ExponentialSmoothing\", \"AR\", \"ARMA\", \"ARIMA\", \"SARIMA\"]\n",
    "ex_method_list = [\"SimpleExpSmoothing\", \"Holt\", \"ExponentialSmoothing\", \"AR\", \"ARMA\", \"ARIMA\", \"SARIMA\", \"ARIMAX\", \"SARIMAX\"]"
   ]
  },
  {
   "cell_type": "code",
   "execution_count": 81,
   "id": "2aa7db99",
   "metadata": {},
   "outputs": [],
   "source": [
    "error_name_list = [\"RMSE\", \"MAE\", \"MAPEs\", \"CAFE\"]"
   ]
  },
  {
   "cell_type": "markdown",
   "id": "52d710a3",
   "metadata": {},
   "source": [
    "### 保存先変更"
   ]
  },
  {
   "cell_type": "code",
   "execution_count": 83,
   "id": "de49ffb8",
   "metadata": {},
   "outputs": [],
   "source": [
    "file_name = \"result1\""
   ]
  },
  {
   "cell_type": "code",
   "execution_count": 84,
   "id": "ed27e9f8",
   "metadata": {},
   "outputs": [],
   "source": [
    "kara = pd.DataFrame([])\n",
    "kara.to_csv('{}.csv'.format(file_name))"
   ]
  },
  {
   "cell_type": "markdown",
   "id": "83f872cf",
   "metadata": {},
   "source": [
    "## 予測"
   ]
  },
  {
   "cell_type": "markdown",
   "id": "0c9e43d4",
   "metadata": {},
   "source": [
    "## 予測実行"
   ]
  },
  {
   "cell_type": "code",
   "execution_count": 111,
   "id": "03d3284a",
   "metadata": {},
   "outputs": [
    {
     "name": "stdout",
     "output_type": "stream",
     "text": [
      "Empty DataFrame\n",
      "Columns: [SimpleExpSmoothing]\n",
      "Index: []\n",
      "Empty DataFrame\n",
      "Columns: [Holt]\n",
      "Index: []\n",
      "Empty DataFrame\n",
      "Columns: [ExponentialSmoothing]\n",
      "Index: []\n"
     ]
    },
    {
     "data": {
      "application/vnd.jupyter.widget-view+json": {
       "model_id": "94fe10c49d794fbca73aabdd65945db7",
       "version_major": 2,
       "version_minor": 0
      },
      "text/plain": [
       "  0%|          | 0/3 [00:00<?, ?it/s]"
      ]
     },
     "metadata": {},
     "output_type": "display_data"
    },
    {
     "name": "stdout",
     "output_type": "stream",
     "text": [
      "             AR_df\n",
      "ar.L1     1.172198\n",
      "ar.L2    -0.170935\n",
      "sigma2  248.398911\n",
      "           ARMA_df\n",
      "ar.L1     2.330365\n",
      "ar.L2    -2.062035\n",
      "ar.L3     0.737027\n",
      "ma.L1    -1.481763\n",
      "ma.L2     0.483378\n",
      "sigma2  164.904051\n",
      "          ARIMA_df\n",
      "ar.L1     0.978138\n",
      "ar.L2    -1.012982\n",
      "ma.L1    -0.917493\n",
      "ma.L2     1.000001\n",
      "sigma2  157.038243\n",
      "          SARIMA_df\n",
      "ma.L1      0.312255\n",
      "ma.L2      0.999990\n",
      "ar.S.L18  -1.018447\n",
      "ma.S.L18  -0.341550\n",
      "sigma2    68.719435\n",
      "       SimpleExpSmoothing        Holt  ExponentialSmoothing          AR  \\\n",
      "RMSE            39.864353   34.597645             39.864353   38.429867   \n",
      "MAE             32.333333   28.784938             32.333333   30.692570   \n",
      "MAPEs           14.744976   12.958136             14.744976   13.920971   \n",
      "CAFE           388.000000  345.419252            388.000000  368.310845   \n",
      "\n",
      "             ARMA       ARIMA      SARIMA min_method  \n",
      "RMSE    32.362303   50.165765   16.329501     SARIMA  \n",
      "MAE     25.690091   43.369370   14.926769     SARIMA  \n",
      "MAPEs   11.297229   20.733282    6.808336     SARIMA  \n",
      "CAFE   308.281096  520.432434  179.121223     SARIMA  \n"
     ]
    },
    {
     "data": {
      "image/png": "[encoded data removed]",
      "text/plain": [
       "<Figure size 432x288 with 1 Axes>"
      ]
     },
     "metadata": {
      "needs_background": "light"
     },
     "output_type": "display_data"
    }
   ],
   "source": [
    "#Xなし\n",
    "def main(y):\n",
    "    error_lists = []\n",
    "    demand = pd.DataFrame(y[\"demand\"])\n",
    "    demand[\"Month\"] = y[\"Month\"]\n",
    "    \n",
    "    for i in AR_method:\n",
    "        tmp_df, error_list, params = predict(i, y)\n",
    "        error_lists.append(error_list)\n",
    "        demand[str(i)] = tmp_df[\"predict\"]\n",
    "        tmp_df.to_csv('{}\\\\{}.csv'.format(save_dir, file_name), mode='a')\n",
    "        params.to_csv('{}\\\\{}.csv'.format(save_dir, file_name), mode='a')\n",
    "        print(params)\n",
    "    \n",
    "    error_metrics = pd.DataFrame(error_lists, columns = error_name_list, index = method_list).T\n",
    "    error_metrics[\"min_method\"] = error_metrics.idxmin(axis=1)\n",
    "    error_metrics.to_csv('{}\\\\{}.csv'.format(save_dir, file_name), mode='a')\n",
    "    print(error_metrics)\n",
    "    plt.plot(demand.index, demand[\"demand\"], label=\"demand\")\n",
    "    for i in range(len(AR_method)):\n",
    "        plt.plot(demand.index, demand[str(AR_method[i])], label=method_list[i])\n",
    "    plt.legend()\n",
    "    \n",
    "if __name__ == \"__main__\":\n",
    "    main(y)"
   ]
  },
  {
   "cell_type": "code",
   "execution_count": 112,
   "id": "89d26789",
   "metadata": {
    "scrolled": false
   },
   "outputs": [
    {
     "name": "stdout",
     "output_type": "stream",
     "text": [
      "Empty DataFrame\n",
      "Columns: [SimpleExpSmoothing]\n",
      "Index: []\n",
      "Empty DataFrame\n",
      "Columns: [Holt]\n",
      "Index: []\n",
      "Empty DataFrame\n",
      "Columns: [ExponentialSmoothing]\n",
      "Index: []\n"
     ]
    },
    {
     "data": {
      "application/vnd.jupyter.widget-view+json": {
       "model_id": "f255995d29bd4e0194411ef56596c7ae",
       "version_major": 2,
       "version_minor": 0
      },
      "text/plain": [
       "  0%|          | 0/3 [00:00<?, ?it/s]"
      ]
     },
     "metadata": {},
     "output_type": "display_data"
    },
    {
     "name": "stdout",
     "output_type": "stream",
     "text": [
      "           AR_df\n",
      "ar.L1   0.910459\n",
      "ar.L2  -0.197659\n",
      "sigma2  6.485283\n",
      "         ARMA_df\n",
      "ar.L1   1.720486\n",
      "ar.L2  -0.992607\n",
      "ma.L1  -1.673981\n",
      "ma.L2   1.000002\n",
      "sigma2  2.485858\n",
      "        ARIMA_df\n",
      "ar.L1   1.720486\n",
      "ar.L2  -0.992607\n",
      "ma.L1  -1.673981\n",
      "ma.L2   1.000002\n",
      "sigma2  2.485858\n",
      "          SARIMA_df\n",
      "ma.L1      0.677338\n",
      "ma.L2      0.780823\n",
      "ma.S.L20   3.243330\n",
      "sigma2     0.014117\n",
      "           ARIMAX_df\n",
      "ex1     2.999999e+00\n",
      "ar.L1   1.732049e+00\n",
      "ar.L2  -1.000000e+00\n",
      "sigma2  2.159233e-10\n",
      "          SARIMAX_df\n",
      "ex1     2.999999e+00\n",
      "ar.L1   1.732049e+00\n",
      "ar.L2  -1.000000e+00\n",
      "sigma2  2.159233e-10\n",
      "       SimpleExpSmoothing        Holt  ExponentialSmoothing          AR  \\\n",
      "RMSE             5.082808    9.556442              5.082808    4.030005   \n",
      "MAE              4.221688    7.445165              4.221688    3.453911   \n",
      "MAPEs          148.445371  146.603420            148.445371  199.287665   \n",
      "CAFE            50.660254   89.341983             50.660254   41.446935   \n",
      "\n",
      "            ARMA      ARIMA      SARIMA     ARIMAX    SARIMAX min_method  \n",
      "RMSE    1.722127   1.722127   10.146222   0.000056   0.000056     ARIMAX  \n",
      "MAE     1.210237   1.210237    8.048799   0.000043   0.000043     ARIMAX  \n",
      "MAPEs  76.883892  76.883892  157.564307  33.336186  33.336186     ARIMAX  \n",
      "CAFE   14.522844  14.522844   96.585588   0.000515   0.000515     ARIMAX  \n"
     ]
    },
    {
     "data": {
      "image/png": "[encoded data removed]",
      "text/plain": [
       "<Figure size 432x288 with 1 Axes>"
      ]
     },
     "metadata": {
      "needs_background": "light"
     },
     "output_type": "display_data"
    }
   ],
   "source": [
    "#Xあり\n",
    "def main(y):\n",
    "    error_lists = []\n",
    "    demand = pd.DataFrame(y[\"demand\"])\n",
    "    demand[\"Month\"] = y[\"Month\"]\n",
    "    \n",
    "    for i in AR_method:\n",
    "        tmp_df, error_list, params = predict(i, y)\n",
    "        error_lists.append(error_list)\n",
    "        demand[str(i)] = tmp_df[\"predict\"]\n",
    "        tmp_df.to_csv('{}\\\\{}.csv'.format(save_dir, file_name), mode='a')\n",
    "        params.to_csv('{}\\\\{}.csv'.format(save_dir, file_name), mode='a')\n",
    "        print(params)\n",
    "    \n",
    "    for i in pro_method:\n",
    "        tmp_df, error_list, params = pro_predict(i, y)\n",
    "        error_lists.append(error_list)\n",
    "        demand[str(i)] = tmp_df[\"predict\"]\n",
    "        tmp_df.to_csv('{}.csv'.format(file_name), mode='a')\n",
    "        params.to_csv('{}.csv'.format(file_name), mode='a')\n",
    "        print(params)\n",
    "        \n",
    "    error_metrics = pd.DataFrame(error_lists, columns = error_name_list, index = ex_method_list).T\n",
    "    error_metrics[\"min_method\"] = error_metrics.idxmin(axis=1)\n",
    "    error_metrics.to_csv('{}.csv'.format(file_name), mode='a')\n",
    "    plt.plot(demand.index, demand[\"demand\"], label=\"demand\")\n",
    "    for i in range(len(AR_method)):\n",
    "        plt.plot(demand.index, demand[str(AR_method[i])], label=ex_method_list[i])\n",
    "    for i in range(len(pro_method)):\n",
    "        plt.plot(demand.index, demand[str(pro_method[i])], label=ex_method_list[i+len(AR_method)])\n",
    "    plt.legend()\n",
    "    print(error_metrics)\n",
    "if __name__ == \"__main__\":\n",
    "    main(y_ex)"
   ]
  },
  {
   "cell_type": "markdown",
   "id": "3b375276",
   "metadata": {},
   "source": [
    "## 編集中"
   ]
  },
  {
   "cell_type": "code",
   "execution_count": 57,
   "id": "7559c09a",
   "metadata": {},
   "outputs": [],
   "source": [
    "#ラグ1,2を取った外部変数を追加\n",
    "def diff_1_2(ex_indicator):\n",
    "    #ラグ1\n",
    "    diff1_ex_indicator = ex_indicator.shift()\n",
    "    diff1_ex_indicator = diff1_ex_indicator.fillna(diff1_ex_indicator.mean())\n",
    "    diff1_col = diff1_ex_indicator.columns\n",
    "    diff2_col = ex_indicator.columns\n",
    "    \n",
    "    #行、列名の設定\n",
    "    diff1_col = list(map(lambda x: x + \"-1\", diff1_col))\n",
    "    diff1_ex_indicator = diff1_ex_indicator.set_axis(diff1_col, axis=1)\n",
    "    diff1_ex_indicator = diff1_ex_indicator.set_axis(ex_indicator.index)\n",
    "    ex_indicator = ex_indicator.join(diff1_ex_indicator)\n",
    "    \n",
    "    #ラグ2\n",
    "    diff2_ex_indicator = diff1_ex_indicator.shift()\n",
    "    \n",
    "    \n",
    "    diff2_ex_indicator = diff2_ex_indicator.fillna(diff2_ex_indicator.mean())\n",
    "    \n",
    "    \n",
    "    \n",
    "    #行、列名の設定\n",
    "    diff2_col = list(map(lambda x: x + \"-2\", diff2_col))\n",
    "    diff2_ex_indicator = diff2_ex_indicator.set_axis(diff2_col, axis=1)\n",
    "    diff2_ex_indicator = diff2_ex_indicator.set_axis(ex_indicator.index)\n",
    "    ex_indicator = ex_indicator.join(diff2_ex_indicator)\n",
    "    \n",
    "    \n",
    "    #ex_indicator = diff1_ex_indicator\n",
    "    #ex_indicator = ex_indicator.append(diff1_ex_indicator)\n",
    "    return ex_indicator"
   ]
  },
  {
   "cell_type": "code",
   "execution_count": 58,
   "id": "d2855e72",
   "metadata": {},
   "outputs": [],
   "source": [
    "#VIF10以下になるように削除\n",
    "def auto_del(ex_indicator):\n",
    "    #if len(ex_indicator.columns) > 2:\n",
    "    #ex_indicator = ex_indicator.drop(['industry'], axis=1)\n",
    "    vif_data = pd.DataFrame()\n",
    "    vif_data[\"feature\"] = ex_indicator.columns\n",
    "    vif_data[\"VIF\"] = [variance_inflation_factor(ex_indicator.values, i) for i in range(len(ex_indicator.columns))]\n",
    "    vif_data\n",
    "    #Pdb().set_trace()\n",
    "    while vif_data.max()['VIF'] > 10:\n",
    "        ex_indicator = ex_indicator.drop([vif_data.feature[vif_data[\"VIF\"].idxmax()]], axis=1)\n",
    "        vif_data = pd.DataFrame()\n",
    "        vif_data[\"feature\"] = ex_indicator.columns\n",
    "        vif_data[\"VIF\"] = [variance_inflation_factor(ex_indicator.values, i) for i in range(len(ex_indicator.columns))]\n",
    "    #Pdb().set_trace()\n",
    "    return ex_indicator"
   ]
  }
 ],
 "metadata": {
  "kernelspec": {
   "display_name": "Python 3",
   "language": "python",
   "name": "python3"
  },
  "language_info": {
   "codemirror_mode": {
    "name": "ipython",
    "version": 3
   },
   "file_extension": ".py",
   "mimetype": "text/x-python",
   "name": "python",
   "nbconvert_exporter": "python",
   "pygments_lexer": "ipython3",
   "version": "3.9.4"
  }
 },
 "nbformat": 4,
 "nbformat_minor": 5
}
